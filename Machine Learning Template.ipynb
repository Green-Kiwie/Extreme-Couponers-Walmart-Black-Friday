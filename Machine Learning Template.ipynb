{
 "cells": [
  {
   "cell_type": "markdown",
   "metadata": {
    "cell_id": "1df31d53d5c44143b00be2356d072f77",
    "deepnote_cell_type": "text-cell-h1",
    "formattedRanges": []
   },
   "source": [
    "# Welcome to the Machine Learning Workshop!"
   ]
  },
  {
   "cell_type": "markdown",
   "metadata": {
    "cell_id": "8e00d8100f2844e2916114c01a385f53",
    "deepnote_app_block_visible": false,
    "deepnote_cell_type": "text-cell-h3",
    "formattedRanges": [],
    "is_collapsed": false
   },
   "source": [
    "### Lets first set up our initial Imports and setup our problem!"
   ]
  },
  {
   "cell_type": "code",
   "execution_count": 1,
   "metadata": {
    "cell_id": "a6d7a60816ca45739604b2ce4a46f07d",
    "deepnote_cell_type": "code",
    "execution_context_id": "beb069a4-5b43-459e-a474-740e9d520fb6",
    "execution_millis": 1294,
    "execution_start": 1738809921487,
    "source_hash": "c6994f08"
   },
   "outputs": [],
   "source": [
    "import numpy as np\n",
    "import matplotlib.pyplot as plt\n",
    "from sklearn.datasets import load_iris\n",
    "\n",
    "\n",
    "iris = load_iris() # loads up a dataset\n",
    "\n",
    "#[Complete HERE]\n",
    "iris.__dict__\n",
    "\n",
    "# How we train and test our data\n",
    "features = iris.data\n",
    "target = iris.target # What we are trying to predict\n"
   ]
  },
  {
   "cell_type": "markdown",
   "metadata": {
    "cell_id": "0751f3bddd3e48d9af470f51fb2eba8f",
    "deepnote_app_block_visible": false,
    "deepnote_cell_type": "text-cell-p",
    "formattedRanges": [],
    "is_collapsed": false
   },
   "source": [
    "Let's first take a look at the data (uncomment the two cells below and click play on both of them to view the array)"
   ]
  },
  {
   "cell_type": "code",
   "execution_count": 2,
   "metadata": {
    "cell_id": "3e8a9fa775164aa9ad40befb1e7b5031",
    "deepnote_cell_type": "code",
    "execution_context_id": "beb069a4-5b43-459e-a474-740e9d520fb6",
    "execution_millis": 1,
    "execution_start": 1738809946054,
    "source_hash": "4aa8e274"
   },
   "outputs": [],
   "source": [
    "#COMPLETE PRINT STATEMENT"
   ]
  },
  {
   "cell_type": "code",
   "execution_count": 3,
   "metadata": {
    "cell_id": "eee654add32d4934b95ddcbf2b4159bf",
    "deepnote_cell_type": "code",
    "execution_context_id": "23b88b0c-0550-412a-8048-f04b972b0fc5",
    "execution_millis": 3,
    "execution_start": 1738545409712,
    "source_hash": "3c2e3aa0"
   },
   "outputs": [],
   "source": [
    "#COMPLETE PRINT STATEMENT\n"
   ]
  },
  {
   "cell_type": "markdown",
   "metadata": {
    "cell_id": "a0ec6593237d4f37b20406ed5112b0e7",
    "deepnote_cell_type": "text-cell-h3",
    "formattedRanges": []
   },
   "source": [
    "### Lets looks at some summary statistics"
   ]
  },
  {
   "cell_type": "code",
   "execution_count": 4,
   "metadata": {
    "cell_id": "44c687e724b74bdca9a0c5777b005734",
    "deepnote_cell_type": "code"
   },
   "outputs": [
    {
     "ename": "SyntaxError",
     "evalue": "incomplete input (3957872508.py, line 7)",
     "output_type": "error",
     "traceback": [
      "\u001b[0;36m  Cell \u001b[0;32mIn[4], line 7\u001b[0;36m\u001b[0m\n\u001b[0;31m    print(f'The mean is: {mean}. \\nThe variance: {var}. \\nThe Standard Deviance  {sd}. \\nThe minimum is {mini}. \\nThe maximum is {maxi}')\u001b[0m\n\u001b[0m                                                                                                                                         ^\u001b[0m\n\u001b[0;31mSyntaxError\u001b[0m\u001b[0;31m:\u001b[0m incomplete input\n"
     ]
    }
   ],
   "source": [
    "mean = np.mean(#INSERT THE RIGHT PARAMERTERS HERE)\n",
    "var = np.var(#INSERT THE RIGHT PARAMERTERS HERE)\n",
    "sd = np.std(#INSERT THE RIGHT PARAMERTERS HERE)\n",
    "mini = np.min(#INSERT THE RIGHT PARAMERTERS HERE)\n",
    "maxi = np.max(#INSERT THE RIGHT PARAMERTERS HERE)\n",
    "\n",
    "print(f'The mean is: {mean}. \\nThe variance: {var}. \\nThe Standard Deviance  {sd}. \\nThe minimum is {mini}. \\nThe maximum is {maxi}')"
   ]
  },
  {
   "cell_type": "markdown",
   "metadata": {
    "cell_id": "2209d437a7ac47e5b46f9011a5c76d2d",
    "deepnote_app_block_visible": false,
    "deepnote_cell_type": "text-cell-h3",
    "formattedRanges": [],
    "is_collapsed": false
   },
   "source": [
    "### Now we are going to split our data up into training and testing data"
   ]
  },
  {
   "cell_type": "code",
   "execution_count": 31,
   "metadata": {
    "cell_id": "8e7b1963c02b4cb197399cbb8517c662",
    "deepnote_cell_type": "code",
    "execution_context_id": "23b88b0c-0550-412a-8048-f04b972b0fc5",
    "execution_millis": 15,
    "execution_start": 1738545411907,
    "source_hash": "1122db70"
   },
   "outputs": [],
   "source": [
    "from sklearn.model_selection import train_test_split\n",
    "\n",
    "#SPLIT YOUR DATA HERE"
   ]
  },
  {
   "cell_type": "markdown",
   "metadata": {
    "cell_id": "7da8363e1fc546c4ac71f1c3f3f96a20",
    "deepnote_cell_type": "text-cell-p",
    "formattedRanges": []
   },
   "source": [
    "By executing the cell above, we get four resulting numpy arrays:"
   ]
  },
  {
   "cell_type": "markdown",
   "metadata": {
    "cell_id": "787fc64ae62b4b9da7cc1fed5039934a",
    "deepnote_cell_type": "text-cell-bullet",
    "formattedRanges": []
   },
   "source": [
    "- X_train: The is the training data that has all of our feature data"
   ]
  },
  {
   "cell_type": "markdown",
   "metadata": {
    "cell_id": "076a950c937b40e595df0902576b4b76",
    "deepnote_cell_type": "text-cell-bullet",
    "formattedRanges": []
   },
   "source": [
    "- X_test: The testing data that has all of our feature data"
   ]
  },
  {
   "cell_type": "markdown",
   "metadata": {
    "cell_id": "0303d9d4a3b94a10a5c8b9a6d4a9cdf2",
    "deepnote_cell_type": "text-cell-bullet",
    "formattedRanges": []
   },
   "source": [
    "- y_train: The training data that has the labels to our feature training data"
   ]
  },
  {
   "cell_type": "markdown",
   "metadata": {
    "cell_id": "377b746e1cd64ce6bc7e931c536f33b1",
    "deepnote_cell_type": "text-cell-bullet",
    "formattedRanges": []
   },
   "source": [
    "- y_test: The testing data that has the labels to our feature data"
   ]
  },
  {
   "cell_type": "markdown",
   "metadata": {
    "cell_id": "f5d9434be4cd42f2b985fc663b44149a",
    "deepnote_cell_type": "text-cell-h2",
    "formattedRanges": []
   },
   "source": [
    "## Lets start training our first Model!"
   ]
  },
  {
   "cell_type": "markdown",
   "metadata": {
    "cell_id": "d2795e417e9b436d89fee09900e0e05f",
    "deepnote_app_block_visible": false,
    "deepnote_cell_type": "text-cell-p",
    "formattedRanges": [],
    "is_collapsed": false
   },
   "source": [
    "We are first going to try a KNeighborsClassifier:"
   ]
  },
  {
   "cell_type": "markdown",
   "metadata": {
    "cell_id": "c7b98f9e2a684970ae3382b6a6a65fd1",
    "deepnote_app_block_visible": false,
    "deepnote_cell_type": "text-cell-bullet",
    "formattedRanges": [],
    "is_collapsed": false
   },
   "source": [
    "- This model uses a KNN model taking the n closest data points and predicting which label the data point should be by majority vote"
   ]
  },
  {
   "cell_type": "markdown",
   "metadata": {
    "cell_id": "5c9eea37f98d495cb6a1b7d20a46ce53",
    "deepnote_app_block_visible": false,
    "deepnote_cell_type": "text-cell-bullet",
    "formattedRanges": [],
    "is_collapsed": false
   },
   "source": [
    "- We are first going to try teaching our model with just the first 2 features of the data, Later we will try with the full dataset and compare at the end what works better!"
   ]
  },
  {
   "cell_type": "code",
   "execution_count": 33,
   "metadata": {
    "cell_id": "63a4560df4f640939af67d055a8c4040",
    "deepnote_cell_type": "code",
    "execution_context_id": "23b88b0c-0550-412a-8048-f04b972b0fc5",
    "execution_millis": 56,
    "execution_start": 1738545415159,
    "source_hash": "9e3ce3f2"
   },
   "outputs": [],
   "source": [
    "from sklearn.neighbors import KNeighborsClassifier\n",
    "two_features =  X_train[:, [0,1]] # Lets just grab the first two features so we can graph the result!\n",
    "#NOTE that there are certain hyperparameters that can be tunned for this model\n",
    "\"\"\"\n",
    "n_neighbors=5,\n",
    "weights='uniform',\n",
    "algorithm='auto',\n",
    "leaf_size=30,\n",
    "p=2,\n",
    "metric='minkowski',\n",
    "metric_params=None,\n",
    "n_jobs=None\n",
    "\"\"\"\n",
    "# The ones presented above are the defaults that we will be using, but on your own you can change them and see\n",
    "# how they affect the results!\n",
    "\n",
    "#SET UP THE LEARNER AND CALL .fit ON THE MODEL IN THIS CELL\n",
    "\n",
    "\n"
   ]
  },
  {
   "cell_type": "markdown",
   "metadata": {
    "cell_id": "c278f605f96c45cbb7635fb4b0ef9e96",
    "deepnote_cell_type": "text-cell-p",
    "formattedRanges": []
   },
   "source": [
    "Let's have a visual representation of what our model looks like"
   ]
  },
  {
   "cell_type": "code",
   "execution_count": 40,
   "metadata": {
    "cell_id": "963b2e75d1254c2cbe932044195addba",
    "deepnote_cell_type": "code",
    "execution_context_id": "23b88b0c-0550-412a-8048-f04b972b0fc5",
    "execution_millis": 751,
    "execution_start": 1738545531094,
    "source_hash": "980bc4bd"
   },
   "outputs": [],
   "source": [
    "from sklearn.inspection import DecisionBoundaryDisplay\n",
    "plot_kwargs = {'cmap': 'jet',     # another option: viridis\n",
    "               'response_method': 'predict',\n",
    "               'plot_method': 'pcolormesh',\n",
    "               'shading': 'auto',\n",
    "               'alpha': 0.5,\n",
    "               'grid_resolution': 100}\n",
    "\n",
    "figure, axes = plt.subplots(1, 1, figsize=(4,4))\n",
    "\n",
    "DecisionBoundaryDisplay.from_estimator(learner_two, two_features, ax=axes, **plot_kwargs)\n",
    "axes.scatter(two_features[:, 0], two_features[:, 1], c=y_train, edgecolor=None, s=12)\n",
    "axes.set_title(f'KNeighborsClassifier Performance');"
   ]
  },
  {
   "cell_type": "markdown",
   "metadata": {
    "cell_id": "8b222a3294c34df98c673e84ebe51943",
    "deepnote_cell_type": "text-cell-h2",
    "formattedRanges": []
   },
   "source": [
    "## Lets see if anything changes with adding more features!"
   ]
  },
  {
   "cell_type": "code",
   "execution_count": 46,
   "metadata": {
    "cell_id": "6c813e32b1ed40f3868e035d72c69573",
    "deepnote_cell_type": "code",
    "execution_context_id": "23b88b0c-0550-412a-8048-f04b972b0fc5",
    "execution_millis": 1,
    "execution_start": 1738545803638,
    "source_hash": "921f9498"
   },
   "outputs": [],
   "source": [
    "learner_KNC = KNeighborsClassifier()\n",
    "learner_KNC.fit(X_train, y_train)\n",
    "\n",
    "#USE .predict TO MAKE THE PREDICTION AND PUT IT INTO A prediction VARIABLE\n",
    "\n",
    "print(f'Our predicted {prediction} and the actual values is {y_test[0]}')"
   ]
  },
  {
   "cell_type": "markdown",
   "metadata": {
    "cell_id": "3f8905759c3948ef8162f87b87ce3aa3",
    "deepnote_cell_type": "text-cell-h2",
    "formattedRanges": []
   },
   "source": [
    "## Lets try another model!"
   ]
  },
  {
   "cell_type": "markdown",
   "metadata": {
    "cell_id": "d7eaa2b66b1d4aea88b186234959d13a",
    "deepnote_cell_type": "text-cell-p",
    "formattedRanges": []
   },
   "source": [
    "Now we are going to try a decision tree"
   ]
  },
  {
   "cell_type": "markdown",
   "metadata": {
    "cell_id": "1a042ccc9e04450489a3deb1b382a0d1",
    "deepnote_app_block_visible": false,
    "deepnote_cell_type": "text-cell-bullet",
    "formattedRanges": [],
    "is_collapsed": false
   },
   "source": [
    "- Each input follows a series of \"yes or no\" questions to get to a certain result"
   ]
  },
  {
   "cell_type": "code",
   "execution_count": 50,
   "metadata": {
    "cell_id": "4036d4ef111c4eab94c81c0351b0b0c1",
    "deepnote_cell_type": "code",
    "execution_context_id": "23b88b0c-0550-412a-8048-f04b972b0fc5",
    "execution_millis": 4,
    "execution_start": 1738545997727,
    "source_hash": "3e9ec340"
   },
   "outputs": [],
   "source": [
    "from sklearn.tree import DecisionTreeClassifier\n",
    "\n",
    "tree_learner = DecisionTreeClassifier()\n",
    "\n",
    "#TRAIN THE TREE AND MAKE A PREDICTION PUT THE PREDICTION INTO A predict_tree VARIABLE\n",
    "\n",
    "print(f'Our predicted {predict_tree} and the actual values is {y_test[0]}')"
   ]
  },
  {
   "cell_type": "markdown",
   "metadata": {
    "cell_id": "a7fc42480f8148a282585c56218905d0",
    "deepnote_cell_type": "text-cell-p",
    "formattedRanges": []
   },
   "source": [
    "Let's investigate the decisions our tree is making"
   ]
  },
  {
   "cell_type": "code",
   "execution_count": 56,
   "metadata": {
    "allow_embed": false,
    "cell_id": "03a850ba14fa42ac9101a5e3ccefa0ef",
    "deepnote_cell_type": "code",
    "execution_context_id": "23b88b0c-0550-412a-8048-f04b972b0fc5",
    "execution_millis": 1092,
    "execution_start": 1738546107063,
    "source_hash": "c449e8f5"
   },
   "outputs": [],
   "source": [
    "from sklearn import tree\n",
    "plt.figure(figsize=(12, 8))\n",
    "tree.plot_tree(tree_learner, class_names=np.unique(target).astype(str), filled=True)\n",
    "plt.show()"
   ]
  },
  {
   "cell_type": "markdown",
   "metadata": {
    "cell_id": "df358672138142b0abba142a5e64fff9",
    "deepnote_cell_type": "text-cell-h2",
    "formattedRanges": []
   },
   "source": [
    "## Now lets try a Multi Layer Perceptron"
   ]
  },
  {
   "cell_type": "code",
   "execution_count": 58,
   "metadata": {
    "cell_id": "5a59446ec0134845af3c9ded176a5310",
    "deepnote_cell_type": "code",
    "execution_context_id": "23b88b0c-0550-412a-8048-f04b972b0fc5",
    "execution_millis": 219,
    "execution_start": 1738546325813,
    "source_hash": "3c597707"
   },
   "outputs": [],
   "source": [
    "from sklearn.neural_network import MLPClassifier\n",
    "\n",
    "MLP_learner =  MLPClassifier()\n",
    "\n",
    "#TRAIN ANN AND MAKE A PREDICTION PUT THE PREDICTION INTO A MLP_predict VARIABLE\n",
    "print(f'Our predicted {MLP_learner_predict} and the actual values is {y_test[0]}')\n"
   ]
  },
  {
   "cell_type": "markdown",
   "metadata": {
    "cell_id": "5e6e954299b74ed987df74170e6635f0",
    "deepnote_cell_type": "text-cell-h2",
    "formattedRanges": []
   },
   "source": [
    "## Now that we have our models... how do we know which model did well?"
   ]
  },
  {
   "cell_type": "markdown",
   "metadata": {
    "cell_id": "526ae6c33faa48fd8a74babbde18fae7",
    "deepnote_cell_type": "text-cell-p",
    "formattedRanges": []
   },
   "source": [
    "While there are many heuristics to look at when evaluating your model's performance, we are going to focus on two today:"
   ]
  },
  {
   "cell_type": "markdown",
   "metadata": {
    "cell_id": "cf359f2a158c40c7b6fdc273f9e26fd1",
    "deepnote_cell_type": "text-cell-bullet",
    "formattedRanges": []
   },
   "source": [
    "- Model Accuracy"
   ]
  },
  {
   "cell_type": "markdown",
   "metadata": {
    "cell_id": "ff7685cdc0fd4b6b85f9cd2c3f502176",
    "deepnote_cell_type": "text-cell-bullet",
    "formattedRanges": []
   },
   "source": [
    "- Overfitting vs.Underfitting"
   ]
  },
  {
   "cell_type": "markdown",
   "metadata": {
    "cell_id": "c6840a37428e48b0a57c504694e34851",
    "deepnote_app_block_visible": false,
    "deepnote_cell_type": "text-cell-h3",
    "formattedRanges": [],
    "is_collapsed": false
   },
   "source": [
    "### Model Accuracy (How well does our model do on test data?)"
   ]
  },
  {
   "cell_type": "markdown",
   "metadata": {
    "cell_id": "b9dbc6c77a8244b19a2a0adbcdd2c155",
    "deepnote_cell_type": "text-cell-p",
    "formattedRanges": []
   },
   "source": [
    "To check our model accuracy we are going to take the zero-one-loss of our models"
   ]
  },
  {
   "cell_type": "code",
   "execution_count": 64,
   "metadata": {
    "cell_id": "db3397199619419fb363346323158f10",
    "deepnote_cell_type": "code",
    "execution_context_id": "23b88b0c-0550-412a-8048-f04b972b0fc5",
    "execution_millis": 0,
    "execution_start": 1738546897802,
    "source_hash": "3d525856"
   },
   "outputs": [],
   "source": [
    "from sklearn.metrics import zero_one_loss\n",
    "models = [#PUT THE MODEL VARIABLE NAMES HERE]\n",
    "\n",
    "\n",
    "\n",
    "for model in models:\n",
    "    if model == learner_two:\n",
    "        score = #FINISH THE CALL TO ZERO_ONE_LOSS HERE\n",
    "        print(f' {model} with two features has an accuracy of {1 - score}')\n",
    "    else:\n",
    "        score = #FINISH THE CALL TO ZERO_ONE_LOSS HERE\n",
    "        print(f'{model} has an accuracy of {1 - score}')\n",
    "\n",
    "\n"
   ]
  },
  {
   "cell_type": "markdown",
   "metadata": {
    "cell_id": "109b78b6e96940459932b45285096599",
    "deepnote_cell_type": "text-cell-h3",
    "formattedRanges": []
   },
   "source": [
    "### Overfitting vs. Underfitting"
   ]
  },
  {
   "cell_type": "markdown",
   "metadata": {
    "cell_id": "d56443f5fe3643a29e09d7f6bd03895a",
    "deepnote_app_block_visible": false,
    "deepnote_cell_type": "text-cell-p",
    "formattedRanges": [],
    "is_collapsed": false
   },
   "source": [
    "To check for overfitting and underfitting we are going to compare our model's training data with their testing data"
   ]
  },
  {
   "cell_type": "code",
   "execution_count": 82,
   "metadata": {
    "cell_id": "605e05dbda634d04a7b5e2dc6bc9659b",
    "deepnote_cell_type": "code",
    "execution_context_id": "23b88b0c-0550-412a-8048-f04b972b0fc5",
    "execution_millis": 400,
    "execution_start": 1738547843014,
    "source_hash": "736dc5"
   },
   "outputs": [],
   "source": [
    "end_sizes = [10, 25, 45, 75, 112]\n",
    "test_error = []\n",
    "train_error = []\n",
    "\n",
    "\n",
    "\n",
    "\n",
    "for end_size in end_sizes:\n",
    "    model = KNeighborsClassifier()\n",
    "    model.fit(X_train[0: end_size, : ], y_train[0: end_size])\n",
    "    test_error.append(#FINISH THE CALL TO ZERO_ONE_LOSS HERE)\n",
    "    train_error.append(#FINISH THE CALL TO ZERO_ONE_LOSS HERE)\n",
    "\n",
    "\n",
    "plt.plot(end_sizes, test_error, label='test error')\n",
    "plt.plot(end_sizes, train_error, label='train error')\n",
    "plt.legend()\n",
    "plt.show()"
   ]
  },
  {
   "cell_type": "markdown",
   "metadata": {
    "created_in_deepnote_cell": true,
    "deepnote_cell_type": "markdown"
   },
   "source": [
    "<a style='text-decoration:none;line-height:16px;display:flex;color:#5B5B62;padding:10px;justify-content:end;' href='https://deepnote.com?utm_source=created-in-deepnote-cell&projectId=bea87c55-61ef-4ac9-9511-13cc119bae10' target=\"_blank\">\n",
    "<img alt='Created in deepnote.com' style='display:inline;max-height:16px;margin:0px;margin-right:7.5px;' src='data:image/svg+xml;base64,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' > </img>\n",
    "Created in <span style='font-weight:600;margin-left:4px;'>Deepnote</span></a>"
   ]
  }
 ],
 "metadata": {
  "deepnote_notebook_id": "99da244f82014525bb8b39b62ece1959",
  "kernelspec": {
   "display_name": "Python 3 (ipykernel)",
   "language": "python",
   "name": "python3"
  },
  "language_info": {
   "codemirror_mode": {
    "name": "ipython",
    "version": 3
   },
   "file_extension": ".py",
   "mimetype": "text/x-python",
   "name": "python",
   "nbconvert_exporter": "python",
   "pygments_lexer": "ipython3",
   "version": "3.12.3"
  }
 },
 "nbformat": 4,
 "nbformat_minor": 0
}
