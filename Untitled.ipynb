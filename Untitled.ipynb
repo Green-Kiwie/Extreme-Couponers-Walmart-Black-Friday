{
 "cells": [
  {
   "cell_type": "code",
   "execution_count": 1,
   "id": "0d1cc0fd",
   "metadata": {},
   "outputs": [
    {
     "data": {
      "text/html": [
       "<div>\n",
       "<style scoped>\n",
       "    .dataframe tbody tr th:only-of-type {\n",
       "        vertical-align: middle;\n",
       "    }\n",
       "\n",
       "    .dataframe tbody tr th {\n",
       "        vertical-align: top;\n",
       "    }\n",
       "\n",
       "    .dataframe thead th {\n",
       "        text-align: right;\n",
       "    }\n",
       "</style>\n",
       "<table border=\"1\" class=\"dataframe\">\n",
       "  <thead>\n",
       "    <tr style=\"text-align: right;\">\n",
       "      <th></th>\n",
       "      <th>user_id</th>\n",
       "      <th>product_id</th>\n",
       "      <th>gender</th>\n",
       "      <th>age</th>\n",
       "      <th>occupation</th>\n",
       "      <th>city_category</th>\n",
       "      <th>stay_in_current_city_years</th>\n",
       "      <th>marital_status</th>\n",
       "      <th>product_category</th>\n",
       "      <th>purchase</th>\n",
       "    </tr>\n",
       "  </thead>\n",
       "  <tbody>\n",
       "    <tr>\n",
       "      <th>0</th>\n",
       "      <td>1000001</td>\n",
       "      <td>P00069042</td>\n",
       "      <td>F</td>\n",
       "      <td>0-17</td>\n",
       "      <td>10</td>\n",
       "      <td>A</td>\n",
       "      <td>2</td>\n",
       "      <td>0</td>\n",
       "      <td>3</td>\n",
       "      <td>8370</td>\n",
       "    </tr>\n",
       "    <tr>\n",
       "      <th>1</th>\n",
       "      <td>1000001</td>\n",
       "      <td>P00248942</td>\n",
       "      <td>F</td>\n",
       "      <td>0-17</td>\n",
       "      <td>10</td>\n",
       "      <td>A</td>\n",
       "      <td>2</td>\n",
       "      <td>0</td>\n",
       "      <td>1</td>\n",
       "      <td>15200</td>\n",
       "    </tr>\n",
       "    <tr>\n",
       "      <th>2</th>\n",
       "      <td>1000001</td>\n",
       "      <td>P00087842</td>\n",
       "      <td>F</td>\n",
       "      <td>0-17</td>\n",
       "      <td>10</td>\n",
       "      <td>A</td>\n",
       "      <td>2</td>\n",
       "      <td>0</td>\n",
       "      <td>12</td>\n",
       "      <td>1422</td>\n",
       "    </tr>\n",
       "    <tr>\n",
       "      <th>3</th>\n",
       "      <td>1000001</td>\n",
       "      <td>P00085442</td>\n",
       "      <td>F</td>\n",
       "      <td>0-17</td>\n",
       "      <td>10</td>\n",
       "      <td>A</td>\n",
       "      <td>2</td>\n",
       "      <td>0</td>\n",
       "      <td>12</td>\n",
       "      <td>1057</td>\n",
       "    </tr>\n",
       "    <tr>\n",
       "      <th>4</th>\n",
       "      <td>1000002</td>\n",
       "      <td>P00285442</td>\n",
       "      <td>M</td>\n",
       "      <td>55+</td>\n",
       "      <td>16</td>\n",
       "      <td>C</td>\n",
       "      <td>4+</td>\n",
       "      <td>0</td>\n",
       "      <td>8</td>\n",
       "      <td>7969</td>\n",
       "    </tr>\n",
       "  </tbody>\n",
       "</table>\n",
       "</div>"
      ],
      "text/plain": [
       "   user_id product_id gender   age  occupation city_category  \\\n",
       "0  1000001  P00069042      F  0-17          10             A   \n",
       "1  1000001  P00248942      F  0-17          10             A   \n",
       "2  1000001  P00087842      F  0-17          10             A   \n",
       "3  1000001  P00085442      F  0-17          10             A   \n",
       "4  1000002  P00285442      M   55+          16             C   \n",
       "\n",
       "  stay_in_current_city_years  marital_status  product_category  purchase  \n",
       "0                          2               0                 3      8370  \n",
       "1                          2               0                 1     15200  \n",
       "2                          2               0                12      1422  \n",
       "3                          2               0                12      1057  \n",
       "4                         4+               0                 8      7969  "
      ]
     },
     "execution_count": 1,
     "metadata": {},
     "output_type": "execute_result"
    }
   ],
   "source": [
    "# Import appropriate libraries\n",
    "import pandas as pd\n",
    "import numpy as np\n",
    "import scipy.stats as stats\n",
    "import matplotlib.pyplot as plt\n",
    "import seaborn as sns\n",
    "plt.style.use('seaborn-whitegrid')\n",
    "plt.rcParams.update({'font.size': 20})\n",
    "\n",
    "# Load the data as a dataframe from the csv file\n",
    "df = pd.read_csv('./walmart_data.csv')\n",
    "\n",
    "# Make all column names lowercase for sanity\n",
    "df.columns = [c.lower() for c in df.columns]\n",
    "\n",
    "# Display the first 5 rows of data to get an idea of what we're working with\n",
    "df.head()"
   ]
  },
  {
   "cell_type": "code",
   "execution_count": 2,
   "id": "717dea21",
   "metadata": {},
   "outputs": [
    {
     "name": "stdout",
     "output_type": "stream",
     "text": [
      "\n",
      "Sum total of purchase (dollar) amounts: \n",
      "gender\n",
      "F    1186232642\n",
      "M    3909580100\n",
      "Name: purchase, dtype: int64\n",
      "\n",
      "Total number of different products purchased: \n",
      "gender\n",
      "F    3367\n",
      "M    3588\n",
      "Name: product_id, dtype: int64\n",
      "\n",
      "Total number of transactions: \n",
      "gender\n",
      "F    135809\n",
      "M    414259\n",
      "Name: purchase, dtype: int64\n",
      "\n",
      "Number of men and women in the data: \n",
      "gender\n",
      "F    1666\n",
      "M    4225\n",
      "Name: user_id, dtype: int64\n"
     ]
    }
   ],
   "source": [
    "print('\\nSum total of purchase (dollar) amounts: ')\n",
    "print(df.groupby(['gender'])['purchase'].sum())\n",
    "\n",
    "print('\\nTotal number of different products purchased: ')\n",
    "print(df.groupby(['gender'])['product_id'].nunique())\n",
    "\n",
    "print('\\nTotal number of transactions: ')\n",
    "print(df.groupby(['gender'])['purchase'].count())\n",
    "\n",
    "print('\\nNumber of men and women in the data: ')\n",
    "print(df.groupby(['gender'])['user_id'].nunique())"
   ]
  },
  {
   "cell_type": "code",
   "execution_count": 3,
   "id": "638f8bc0",
   "metadata": {},
   "outputs": [],
   "source": [
    "num_transactions = df.groupby(['gender'])['purchase'].count()\n",
    "\n",
    "num_users = df.groupby(['gender'])['user_id'].nunique()"
   ]
  },
  {
   "cell_type": "code",
   "execution_count": 5,
   "id": "c43146da",
   "metadata": {},
   "outputs": [
    {
     "name": "stdout",
     "output_type": "stream",
     "text": [
      "\n",
      "Normalized (per user) sum total of purchase (dollar) amounts: \n",
      "gender\n",
      "F    712024.394958\n",
      "M    925344.402367\n",
      "dtype: float64\n",
      "\n",
      "Normalized (per user) total number of different products purchased: \n",
      "gender\n",
      "F    2.021008\n",
      "M    0.849231\n",
      "dtype: float64\n",
      "\n",
      "Normalized (per user) total number of transactions: \n",
      "gender\n",
      "F    81.518007\n",
      "M    98.049467\n",
      "dtype: float64\n"
     ]
    }
   ],
   "source": [
    "print('\\nNormalized (per user) sum total of purchase (dollar) amounts: ')\n",
    "print(df.groupby('gender')['purchase'].sum() / num_users)\n",
    "\n",
    "print('\\nNormalized (per user) total number of different products purchased: ')\n",
    "print(df.groupby('gender')['product_id'].nunique() / num_users)\n",
    "\n",
    "print('\\nNormalized (per user) total number of transactions: ')\n",
    "print(df.groupby('gender')['purchase'].count() / num_users)"
   ]
  },
  {
   "cell_type": "code",
   "execution_count": 8,
   "id": "76525193",
   "metadata": {},
   "outputs": [
    {
     "data": {
      "text/plain": [
       "<AxesSubplot:>"
      ]
     },
     "execution_count": 8,
     "metadata": {},
     "output_type": "execute_result"
    },
    {
     "data": {
      "image/png": "[encoded data removed]",
      "text/plain": [
       "<Figure size 432x288 with 1 Axes>"
      ]
     },
     "metadata": {},
     "output_type": "display_data"
    }
   ],
   "source": [
    "df.groupby(['user_id'])['purchase'].count().hist(bins=np.linspace(0, 200, 50))"
   ]
  },
  {
   "cell_type": "code",
   "execution_count": null,
   "id": "45997faa",
   "metadata": {},
   "outputs": [],
   "source": []
  }
 ],
 "metadata": {
  "kernelspec": {
   "display_name": "Python 3 (ipykernel)",
   "language": "python",
   "name": "python3"
  },
  "language_info": {
   "codemirror_mode": {
    "name": "ipython",
    "version": 3
   },
   "file_extension": ".py",
   "mimetype": "text/x-python",
   "name": "python",
   "nbconvert_exporter": "python",
   "pygments_lexer": "ipython3",
   "version": "3.9.12"
  }
 },
 "nbformat": 4,
 "nbformat_minor": 5
}
